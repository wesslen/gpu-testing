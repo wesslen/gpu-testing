{
  "nbformat": 4,
  "nbformat_minor": 0,
  "metadata": {
    "colab": {
      "provenance": [],
      "machine_shape": "hm",
      "gpuType": "A100",
      "authorship_tag": "ABX9TyMc1zrQBFIOh45ojTCCJuK1",
      "include_colab_link": true
    },
    "kernelspec": {
      "name": "python3",
      "display_name": "Python 3"
    },
    "language_info": {
      "name": "python"
    },
    "accelerator": "GPU"
  },
  "cells": [
    {
      "cell_type": "markdown",
      "metadata": {
        "id": "view-in-github",
        "colab_type": "text"
      },
      "source": [
        "<a href=\"https://colab.research.google.com/github/wesslen/gpu-testing/blob/main/notebooks/transformers_baseline.ipynb\" target=\"_parent\"><img src=\"https://colab.research.google.com/assets/colab-badge.svg\" alt=\"Open In Colab\"/></a>"
      ]
    },
    {
      "cell_type": "code",
      "execution_count": 3,
      "metadata": {
        "colab": {
          "base_uri": "https://localhost:8080/"
        },
        "id": "tknp1IyeYnMm",
        "outputId": "f2904b63-45e4-4951-8bd3-f127d61719e0"
      },
      "outputs": [
        {
          "output_type": "stream",
          "name": "stdout",
          "text": [
            "Running on device: cuda\n",
            "GPU: NVIDIA A100-SXM4-40GB\n",
            "CUDA Version: 12.1\n",
            "Warming up...\n",
            "Running benchmark with 50 iterations...\n",
            "Iteration 10/50\n",
            "Iteration 20/50\n",
            "Iteration 30/50\n",
            "Iteration 40/50\n",
            "Iteration 50/50\n",
            "\n",
            "Results:\n",
            "Average latency: 106.64 ms\n",
            "Median latency: 106.63 ms\n",
            "90th percentile latency: 106.68 ms\n",
            "99th percentile latency: 106.76 ms\n",
            "Throughput: 153636.99 tokens/second\n"
          ]
        }
      ],
      "source": [
        "import torch\n",
        "from transformers.configuration_utils import PretrainedConfig\n",
        "from transformers.modeling_utils import PreTrainedModel\n",
        "from time import time\n",
        "import numpy as np\n",
        "\n",
        "class BenchmarkConfig(PretrainedConfig):\n",
        "    model_type = \"benchmark\"\n",
        "    def __init__(self, hidden_size=768, num_hidden_layers=12, num_attention_heads=12, **kwargs):\n",
        "        self.hidden_size = hidden_size\n",
        "        self.num_hidden_layers = num_hidden_layers\n",
        "        self.num_attention_heads = num_attention_heads\n",
        "        super().__init__(**kwargs)\n",
        "\n",
        "class BenchmarkModel(PreTrainedModel):\n",
        "    config_class = BenchmarkConfig\n",
        "\n",
        "    def __init__(self, config):\n",
        "        super().__init__(config)\n",
        "        self.layers = torch.nn.ModuleList([\n",
        "            torch.nn.Sequential(\n",
        "                torch.nn.Linear(config.hidden_size, config.hidden_size * 4),\n",
        "                torch.nn.GELU(),\n",
        "                torch.nn.Linear(config.hidden_size * 4, config.hidden_size),\n",
        "                torch.nn.LayerNorm(config.hidden_size)\n",
        "            ) for _ in range(config.num_hidden_layers)\n",
        "        ])\n",
        "\n",
        "    def forward(self, x):\n",
        "        for layer in self.layers:\n",
        "            x = layer(x) + x\n",
        "        return x\n",
        "\n",
        "def run_benchmark(batch_size=32, seq_length=512, num_warmup=10, num_iterations=50):\n",
        "    # Configure device\n",
        "    device = torch.device(\"cuda\" if torch.cuda.is_available() else \"cpu\")\n",
        "    print(f\"Running on device: {device}\")\n",
        "    if device.type == \"cuda\":\n",
        "        print(f\"GPU: {torch.cuda.get_device_name()}\")\n",
        "        print(f\"CUDA Version: {torch.version.cuda}\")\n",
        "\n",
        "    # Initialize model\n",
        "    config = BenchmarkConfig()\n",
        "    model = BenchmarkModel(config).to(device)\n",
        "    model.eval()\n",
        "\n",
        "    # Create dummy input\n",
        "    dummy_input = torch.randn(batch_size, seq_length, config.hidden_size, device=device)\n",
        "\n",
        "    # Warmup\n",
        "    print(\"Warming up...\")\n",
        "    with torch.no_grad():\n",
        "        for _ in range(num_warmup):\n",
        "            _ = model(dummy_input)\n",
        "\n",
        "    # Benchmark\n",
        "    print(f\"Running benchmark with {num_iterations} iterations...\")\n",
        "    times = []\n",
        "    with torch.no_grad():\n",
        "        torch.cuda.synchronize()\n",
        "        for i in range(num_iterations):\n",
        "            start = time()\n",
        "            _ = model(dummy_input)\n",
        "            torch.cuda.synchronize()\n",
        "            end = time()\n",
        "            times.append(end - start)\n",
        "            if (i + 1) % 10 == 0:\n",
        "                print(f\"Iteration {i + 1}/{num_iterations}\")\n",
        "\n",
        "    # Calculate statistics\n",
        "    times = np.array(times) * 1000  # Convert to milliseconds\n",
        "    print(\"\\nResults:\")\n",
        "    print(f\"Average latency: {np.mean(times):.2f} ms\")\n",
        "    print(f\"Median latency: {np.median(times):.2f} ms\")\n",
        "    print(f\"90th percentile latency: {np.percentile(times, 90):.2f} ms\")\n",
        "    print(f\"99th percentile latency: {np.percentile(times, 99):.2f} ms\")\n",
        "    print(f\"Throughput: {batch_size * seq_length / (np.mean(times) / 1000):.2f} tokens/second\")\n",
        "\n",
        "if __name__ == \"__main__\":\n",
        "    run_benchmark()"
      ]
    },
    {
      "cell_type": "code",
      "source": [
        "# Now check versions\n",
        "import pkg_resources\n",
        "import sys\n",
        "\n",
        "def get_package_details():\n",
        "    \"\"\"Print details of specific packages and Python version\"\"\"\n",
        "    packages_to_check = [\n",
        "        'torch',\n",
        "        'transformers',\n",
        "        'numpy',\n",
        "        'sentencepiece'  # Often used by transformers\n",
        "    ]\n",
        "\n",
        "    print(\"Python version:\", sys.version.split()[0])\n",
        "    print(\"\\nPackage versions:\")\n",
        "    print(\"-\" * 50)\n",
        "\n",
        "    for package in packages_to_check:\n",
        "        try:\n",
        "            version = pkg_resources.get_distribution(package).version\n",
        "            print(f\"{package:<15} {version}\")\n",
        "        except pkg_resources.DistributionNotFound:\n",
        "            print(f\"{package:<15} Not installed\")\n",
        "\n",
        "# Check CUDA availability for PyTorch\n",
        "import torch\n",
        "print(\"\\nCUDA Status:\")\n",
        "print(\"-\" * 50)\n",
        "print(f\"CUDA available: {torch.cuda.is_available()}\")\n",
        "if torch.cuda.is_available():\n",
        "    print(f\"CUDA version: {torch.version.cuda}\")\n",
        "    print(f\"Current GPU: {torch.cuda.get_device_name()}\")\n",
        "\n",
        "# Run the check\n",
        "get_package_details()"
      ],
      "metadata": {
        "colab": {
          "base_uri": "https://localhost:8080/"
        },
        "id": "3eEJsKYsY2zI",
        "outputId": "73c89b34-328d-43c2-b101-b7ba7dfe9825"
      },
      "execution_count": 4,
      "outputs": [
        {
          "output_type": "stream",
          "name": "stdout",
          "text": [
            "\n",
            "CUDA Status:\n",
            "--------------------------------------------------\n",
            "CUDA available: True\n",
            "CUDA version: 12.1\n",
            "Current GPU: NVIDIA A100-SXM4-40GB\n",
            "Python version: 3.10.12\n",
            "\n",
            "Package versions:\n",
            "--------------------------------------------------\n",
            "torch           2.5.0+cu121\n",
            "transformers    4.44.2\n",
            "numpy           1.26.4\n",
            "sentencepiece   0.2.0\n"
          ]
        }
      ]
    }
  ]
}